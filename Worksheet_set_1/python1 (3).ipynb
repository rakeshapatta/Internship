{
 "cells": [
  {
   "cell_type": "code",
   "execution_count": 1,
   "id": "de15d334-8d5d-462a-a569-e059259f7da2",
   "metadata": {},
   "outputs": [
    {
     "name": "stdin",
     "output_type": "stream",
     "text": [
      "Enter a number :  5\n"
     ]
    },
    {
     "name": "stdout",
     "output_type": "stream",
     "text": [
      "factorial of  5 is 120\n"
     ]
    }
   ],
   "source": [
    "num = int(input(\"Enter a number : \"))\n",
    "factorial = 1\n",
    "if num < 0:\n",
    "    print(\"factorial does not exit.\")\n",
    "elif num == 0:\n",
    "    print(\"the factroial is 1\")\n",
    "else:\n",
    "    for i in range(1, num+1):\n",
    "     factorial = factorial*i\n",
    "    print(\"factorial of \" ,num, \"is\", factorial)"
   ]
  },
  {
   "cell_type": "code",
   "execution_count": 2,
   "id": "421576cf-d566-4c7a-ad06-3f78d79f4269",
   "metadata": {},
   "outputs": [
    {
     "name": "stdin",
     "output_type": "stream",
     "text": [
      "Enter any number :  145\n"
     ]
    },
    {
     "name": "stdout",
     "output_type": "stream",
     "text": [
      "145 is Composite number.\n"
     ]
    }
   ],
   "source": [
    "num = int(input(\"Enter any number : \"))\n",
    "if num > 1:\n",
    "    for i in range(2, num):\n",
    "        if (num % i) == 0:\n",
    "            print(num, \"is Composite number.\")\n",
    "            break\n",
    "    else:\n",
    "        print(num, \"is a P number.\")\n",
    "elif num == 0 or 1:\n",
    "    print(num, \"is a neither prime nor composite number.\")\n",
    "else:\n",
    "    print(num, \"is not a prime number it is a Composite number.\")"
   ]
  },
  {
   "cell_type": "code",
   "execution_count": 3,
   "id": "cdfe478b-3f0d-48ca-81bf-aa8337e124c4",
   "metadata": {},
   "outputs": [
    {
     "name": "stdin",
     "output_type": "stream",
     "text": [
      "Enter string :  Kanak\n"
     ]
    },
    {
     "name": "stdout",
     "output_type": "stream",
     "text": [
      "Reversed string :  kanak\n",
      "The string is a palindrome.\n"
     ]
    }
   ],
   "source": [
    "string = input(\"Enter string : \") \n",
    "string = string.casefold()\n",
    "revstr = \"\"  \n",
    "for i in string: \n",
    "    revstr = i + revstr\n",
    "print(\"Reversed string : \", revstr)\n",
    "if(string == revstr):\n",
    "    print(\"The string is a palindrome.\") \n",
    "else:\n",
    "    print(\"The string is not a palindrome.\")"
   ]
  },
  {
   "cell_type": "code",
   "execution_count": 4,
   "id": "7bb81091-4088-4106-92c0-c336860bb649",
   "metadata": {},
   "outputs": [
    {
     "name": "stdout",
     "output_type": "stream",
     "text": [
      "Input lengths of shorter triangle sides:\n"
     ]
    },
    {
     "name": "stdin",
     "output_type": "stream",
     "text": [
      "a:  6\n",
      "b:  8\n"
     ]
    },
    {
     "name": "stdout",
     "output_type": "stream",
     "text": [
      "The length of the hypotenuse is: 10.0\n"
     ]
    }
   ],
   "source": [
    "from math import sqrt\n",
    "print(\"Input lengths of shorter triangle sides:\")\n",
    "a = float(input(\"a: \"))\n",
    "b = float(input(\"b: \"))\n",
    "c = sqrt(a**2 + b**2)\n",
    "print(\"The length of the hypotenuse is:\", c)"
   ]
  },
  {
   "cell_type": "code",
   "execution_count": 5,
   "id": "a542bd90-1c15-49f1-900f-9f5d59ac96fa",
   "metadata": {},
   "outputs": [
    {
     "name": "stdin",
     "output_type": "stream",
     "text": [
      "Enter string :  Areoplane\n"
     ]
    },
    {
     "name": "stdout",
     "output_type": "stream",
     "text": [
      "{'a': 2, 'r': 1, 'e': 2, 'o': 1, 'p': 1, 'l': 1, 'n': 1}\n"
     ]
    }
   ],
   "source": [
    "string = input(\"Enter string : \")\n",
    "string = string.casefold()\n",
    "dict={}\n",
    "for i in string:\n",
    "    if i in dict:\n",
    "        dict[i] +=1\n",
    "    else:\n",
    "        dict[i]=1\n",
    "print(dict)"
   ]
  },
  {
   "cell_type": "code",
   "execution_count": null,
   "id": "87fabaaf-6a9a-422b-a8ae-8e60f4495aac",
   "metadata": {},
   "outputs": [],
   "source": []
  },
  {
   "cell_type": "code",
   "execution_count": null,
   "id": "c088c6b5-5ffa-4746-af51-9a76955ad9e6",
   "metadata": {},
   "outputs": [],
   "source": []
  }
 ],
 "metadata": {
  "kernelspec": {
   "display_name": "Python 3 (ipykernel)",
   "language": "python",
   "name": "python3"
  },
  "language_info": {
   "codemirror_mode": {
    "name": "ipython",
    "version": 3
   },
   "file_extension": ".py",
   "mimetype": "text/x-python",
   "name": "python",
   "nbconvert_exporter": "python",
   "pygments_lexer": "ipython3",
   "version": "3.11.7"
  }
 },
 "nbformat": 4,
 "nbformat_minor": 5
}
